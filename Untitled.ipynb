{
 "cells": [
  {
   "cell_type": "code",
   "execution_count": null,
   "id": "93020612",
   "metadata": {},
   "outputs": [
    {
     "name": "stderr",
     "output_type": "stream",
     "text": [
      "C:\\Dev\\ArcCI\\ArcCI-Collab-Repo\\segview.py:492: DeprecationWarning: `np.float` is a deprecated alias for the builtin `float`. To silence this warning, use `float` by itself. Doing this will not modify any behavior and is safe. If you specifically wanted the numpy scalar type, use `np.float64` here.\n",
      "Deprecated in NumPy 1.20; for more details and guidance: https://numpy.org/devdocs/release/1.20.0-notes.html#deprecations\n",
      "  image_data = pp.white_balance(image_data, self.wb_ref.astype(np.float), float(np.amax(self.wb_ref)))\n",
      "Exception in Tkinter callback\n",
      "Traceback (most recent call last):\n",
      "  File \"C:\\Users\\rapto\\anaconda3\\envs\\arcdev\\lib\\tkinter\\__init__.py\", line 1702, in __call__\n",
      "    return self.func(*args)\n",
      "  File \"C:\\Dev\\ArcCI\\ArcCI-Collab-Repo\\segview.py\", line 130, in <lambda>\n",
      "    command=lambda: parent.event_manager.initialize_image())\n",
      "  File \"C:\\Dev\\ArcCI\\ArcCI-Collab-Repo\\segview.py\", line 633, in initialize_image\n",
      "    self.previous_image()\n",
      "  File \"C:\\Dev\\ArcCI\\ArcCI-Collab-Repo\\segview.py\", line 623, in previous_image\n",
      "    self.parent.image_display.update_images(100,100)\n",
      "  File \"C:\\Dev\\ArcCI\\ArcCI-Collab-Repo\\segview.py\", line 336, in update_images\n",
      "    watershed_result = mark_boundaries(cropped_image, seg_image)\n",
      "  File \"C:\\Users\\rapto\\anaconda3\\envs\\arcdev\\lib\\site-packages\\skimage\\segmentation\\boundaries.py\", line 230, in mark_boundaries\n",
      "    marked[boundaries] = color\n",
      "IndexError: boolean index did not match indexed array along dimension 0; dimension is 200 but corresponding boolean dimension is 1\n"
     ]
    }
   ],
   "source": [
    "%run segview.py C:\\Dev\\ArcCI\\ArcCI-Collab-Repo\\pics \"pan\""
   ]
  },
  {
   "cell_type": "code",
   "execution_count": null,
   "id": "cdf02a00",
   "metadata": {},
   "outputs": [],
   "source": []
  }
 ],
 "metadata": {
  "kernelspec": {
   "display_name": "Python (arcdev)",
   "language": "python",
   "name": "arcdev"
  },
  "language_info": {
   "codemirror_mode": {
    "name": "ipython",
    "version": 3
   },
   "file_extension": ".py",
   "mimetype": "text/x-python",
   "name": "python",
   "nbconvert_exporter": "python",
   "pygments_lexer": "ipython3",
   "version": "3.7.0"
  }
 },
 "nbformat": 4,
 "nbformat_minor": 5
}
